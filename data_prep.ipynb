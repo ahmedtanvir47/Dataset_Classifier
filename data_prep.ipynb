{
 "cells": [
  {
   "cell_type": "code",
   "execution_count": 1,
   "metadata": {},
   "outputs": [],
   "source": [
    "import pandas as pd"
   ]
  },
  {
   "cell_type": "code",
   "execution_count": 2,
   "metadata": {},
   "outputs": [],
   "source": [
    "df1 = pd.read_csv(\"kaggle_urls.csv\")\n",
    "df2 = pd.read_csv(\"kaggle_datasets.csv\")"
   ]
  },
  {
   "cell_type": "code",
   "execution_count": 3,
   "metadata": {},
   "outputs": [],
   "source": [
    "df = pd.concat([df1,df2], ignore_index= True)"
   ]
  },
  {
   "cell_type": "code",
   "execution_count": 4,
   "metadata": {},
   "outputs": [
    {
     "data": {
      "text/plain": [
       "(29748, 2)"
      ]
     },
     "execution_count": 4,
     "metadata": {},
     "output_type": "execute_result"
    }
   ],
   "source": [
    "df.shape"
   ]
  },
  {
   "cell_type": "code",
   "execution_count": 9,
   "metadata": {},
   "outputs": [
    {
     "data": {
      "text/plain": [
       "0"
      ]
     },
     "execution_count": 9,
     "metadata": {},
     "output_type": "execute_result"
    }
   ],
   "source": [
    "len(df.index[df.duplicated()==True])"
   ]
  },
  {
   "cell_type": "code",
   "execution_count": 6,
   "metadata": {},
   "outputs": [],
   "source": [
    "df.drop_duplicates(inplace=True)"
   ]
  },
  {
   "cell_type": "code",
   "execution_count": 7,
   "metadata": {},
   "outputs": [],
   "source": [
    "df.to_csv(\"kaggle_urls1.csv\",index=False)"
   ]
  },
  {
   "cell_type": "code",
   "execution_count": 34,
   "metadata": {},
   "outputs": [
    {
     "data": {
      "text/plain": [
       "(27060, 2)"
      ]
     },
     "execution_count": 34,
     "metadata": {},
     "output_type": "execute_result"
    }
   ],
   "source": [
    "df.shape"
   ]
  },
  {
   "cell_type": "code",
   "execution_count": 33,
   "metadata": {},
   "outputs": [
    {
     "data": {
      "text/html": [
       "<div>\n",
       "<style scoped>\n",
       "    .dataframe tbody tr th:only-of-type {\n",
       "        vertical-align: middle;\n",
       "    }\n",
       "\n",
       "    .dataframe tbody tr th {\n",
       "        vertical-align: top;\n",
       "    }\n",
       "\n",
       "    .dataframe thead th {\n",
       "        text-align: right;\n",
       "    }\n",
       "</style>\n",
       "<table border=\"1\" class=\"dataframe\">\n",
       "  <thead>\n",
       "    <tr style=\"text-align: right;\">\n",
       "      <th></th>\n",
       "      <th>Label</th>\n",
       "      <th>URL</th>\n",
       "    </tr>\n",
       "  </thead>\n",
       "  <tbody>\n",
       "    <tr>\n",
       "      <th>5510</th>\n",
       "      <td>⚔ Dota 2 Pro League Matches 2016-2024 ⛨</td>\n",
       "      <td>https://www.kaggle.com/datasets/bwandowando/do...</td>\n",
       "    </tr>\n",
       "    <tr>\n",
       "      <th>10193</th>\n",
       "      <td>⚔ Dota 2 Pro League Matches 2016-2025 ⛨</td>\n",
       "      <td>https://www.kaggle.com/datasets/bwandowando/do...</td>\n",
       "    </tr>\n",
       "  </tbody>\n",
       "</table>\n",
       "</div>"
      ],
      "text/plain": [
       "                                         Label  \\\n",
       "5510   ⚔ Dota 2 Pro League Matches 2016-2024 ⛨   \n",
       "10193  ⚔ Dota 2 Pro League Matches 2016-2025 ⛨   \n",
       "\n",
       "                                                     URL  \n",
       "5510   https://www.kaggle.com/datasets/bwandowando/do...  \n",
       "10193  https://www.kaggle.com/datasets/bwandowando/do...  "
      ]
     },
     "execution_count": 33,
     "metadata": {},
     "output_type": "execute_result"
    }
   ],
   "source": [
    "df.iloc[[5510,10193]]"
   ]
  },
  {
   "cell_type": "code",
   "execution_count": 32,
   "metadata": {},
   "outputs": [
    {
     "data": {
      "text/html": [
       "<div>\n",
       "<style scoped>\n",
       "    .dataframe tbody tr th:only-of-type {\n",
       "        vertical-align: middle;\n",
       "    }\n",
       "\n",
       "    .dataframe tbody tr th {\n",
       "        vertical-align: top;\n",
       "    }\n",
       "\n",
       "    .dataframe thead th {\n",
       "        text-align: right;\n",
       "    }\n",
       "</style>\n",
       "<table border=\"1\" class=\"dataframe\">\n",
       "  <thead>\n",
       "    <tr style=\"text-align: right;\">\n",
       "      <th></th>\n",
       "      <th>Label</th>\n",
       "      <th>URL</th>\n",
       "    </tr>\n",
       "  </thead>\n",
       "  <tbody>\n",
       "    <tr>\n",
       "      <th>0</th>\n",
       "      <td>Animal Crossing New Horizons Catalog</td>\n",
       "      <td>https://www.kaggle.com/datasets/jessicali9530/...</td>\n",
       "    </tr>\n",
       "    <tr>\n",
       "      <th>1</th>\n",
       "      <td>Credit Card Fraud Detection</td>\n",
       "      <td>https://www.kaggle.com/datasets/mlg-ulb/credit...</td>\n",
       "    </tr>\n",
       "    <tr>\n",
       "      <th>2</th>\n",
       "      <td>COVID-19 Open Research Dataset Challenge (CORD...</td>\n",
       "      <td>https://www.kaggle.com/datasets/allen-institut...</td>\n",
       "    </tr>\n",
       "    <tr>\n",
       "      <th>3</th>\n",
       "      <td>Netflix Movies and TV Shows</td>\n",
       "      <td>https://www.kaggle.com/datasets/shivamb/netfli...</td>\n",
       "    </tr>\n",
       "    <tr>\n",
       "      <th>4</th>\n",
       "      <td>Chest X-Ray Images (Pneumonia)</td>\n",
       "      <td>https://www.kaggle.com/datasets/paultimothymoo...</td>\n",
       "    </tr>\n",
       "    <tr>\n",
       "      <th>...</th>\n",
       "      <td>...</td>\n",
       "      <td>...</td>\n",
       "    </tr>\n",
       "    <tr>\n",
       "      <th>29742</th>\n",
       "      <td>Warsaw Daily Weather Dataset</td>\n",
       "      <td>https://www.kaggle.com/datasets/mateuszk013/wa...</td>\n",
       "    </tr>\n",
       "    <tr>\n",
       "      <th>29744</th>\n",
       "      <td>France vehicles co2 emission [2013]</td>\n",
       "      <td>https://www.kaggle.com/datasets/hetax17/france...</td>\n",
       "    </tr>\n",
       "    <tr>\n",
       "      <th>29745</th>\n",
       "      <td>All Terraria Weapons DPS V_1.4.4.9</td>\n",
       "      <td>https://www.kaggle.com/datasets/acr1209/all-te...</td>\n",
       "    </tr>\n",
       "    <tr>\n",
       "      <th>29746</th>\n",
       "      <td>Internationals Applying to US Colleges</td>\n",
       "      <td>https://www.kaggle.com/datasets/priyanshusethi...</td>\n",
       "    </tr>\n",
       "    <tr>\n",
       "      <th>29747</th>\n",
       "      <td>Used Cars Dataset</td>\n",
       "      <td>https://www.kaggle.com/datasets/andreinovikov/...</td>\n",
       "    </tr>\n",
       "  </tbody>\n",
       "</table>\n",
       "<p>27059 rows × 2 columns</p>\n",
       "</div>"
      ],
      "text/plain": [
       "                                                   Label  \\\n",
       "0                   Animal Crossing New Horizons Catalog   \n",
       "1                            Credit Card Fraud Detection   \n",
       "2      COVID-19 Open Research Dataset Challenge (CORD...   \n",
       "3                            Netflix Movies and TV Shows   \n",
       "4                         Chest X-Ray Images (Pneumonia)   \n",
       "...                                                  ...   \n",
       "29742                       Warsaw Daily Weather Dataset   \n",
       "29744                France vehicles co2 emission [2013]   \n",
       "29745                 All Terraria Weapons DPS V_1.4.4.9   \n",
       "29746             Internationals Applying to US Colleges   \n",
       "29747                                  Used Cars Dataset   \n",
       "\n",
       "                                                     URL  \n",
       "0      https://www.kaggle.com/datasets/jessicali9530/...  \n",
       "1      https://www.kaggle.com/datasets/mlg-ulb/credit...  \n",
       "2      https://www.kaggle.com/datasets/allen-institut...  \n",
       "3      https://www.kaggle.com/datasets/shivamb/netfli...  \n",
       "4      https://www.kaggle.com/datasets/paultimothymoo...  \n",
       "...                                                  ...  \n",
       "29742  https://www.kaggle.com/datasets/mateuszk013/wa...  \n",
       "29744  https://www.kaggle.com/datasets/hetax17/france...  \n",
       "29745  https://www.kaggle.com/datasets/acr1209/all-te...  \n",
       "29746  https://www.kaggle.com/datasets/priyanshusethi...  \n",
       "29747  https://www.kaggle.com/datasets/andreinovikov/...  \n",
       "\n",
       "[27059 rows x 2 columns]"
      ]
     },
     "execution_count": 32,
     "metadata": {},
     "output_type": "execute_result"
    }
   ],
   "source": [
    "df.drop(10193,inplace=False)"
   ]
  }
 ],
 "metadata": {
  "kernelspec": {
   "display_name": "venv",
   "language": "python",
   "name": "python3"
  },
  "language_info": {
   "codemirror_mode": {
    "name": "ipython",
    "version": 3
   },
   "file_extension": ".py",
   "mimetype": "text/x-python",
   "name": "python",
   "nbconvert_exporter": "python",
   "pygments_lexer": "ipython3",
   "version": "3.9.13"
  }
 },
 "nbformat": 4,
 "nbformat_minor": 2
}
